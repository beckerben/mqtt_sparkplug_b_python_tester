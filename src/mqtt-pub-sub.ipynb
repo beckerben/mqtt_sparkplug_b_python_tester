{
 "cells": [
  {
   "cell_type": "markdown",
   "metadata": {},
   "source": [
    "# MQTT Binary File Test\n",
    "This publishes an image and subscibes to it."
   ]
  },
  {
   "cell_type": "code",
   "execution_count": null,
   "metadata": {},
   "outputs": [],
   "source": [
    "# PUB\n",
    "import paho.mqtt.publish as publish\n",
    "MQTT_SERVER = \"becker14.local\"  #Write Server IP Address\n",
    "MQTT_PATH = \"test/image\"\n",
    "\n",
    "f=open(\"c:\\\\temp\\\\duck.png\", \"rb\") #3.7kiB in same folder\n",
    "fileContent = f.read()\n",
    "byteArr = bytearray(fileContent)\n",
    "\n",
    "\n",
    "publish.single(MQTT_PATH, byteArr, hostname=MQTT_SERVER)"
   ]
  },
  {
   "cell_type": "code",
   "execution_count": 6,
   "metadata": {},
   "outputs": [
    {
     "name": "stdout",
     "output_type": "stream",
     "text": [
      "Connected with result code 0\n",
      "Image Received\n"
     ]
    },
    {
     "ename": "KeyboardInterrupt",
     "evalue": "",
     "output_type": "error",
     "traceback": [
      "\u001b[1;31m---------------------------------------------------------------------------\u001b[0m",
      "\u001b[1;31mKeyboardInterrupt\u001b[0m                         Traceback (most recent call last)",
      "\u001b[1;32mUntitled-1.ipynb Cell 3'\u001b[0m in \u001b[0;36m<cell line: 33>\u001b[1;34m()\u001b[0m\n\u001b[0;32m     <a href='vscode-notebook-cell:Untitled-1.ipynb?jupyter-notebook#ch0000003untitled?line=26'>27</a>\u001b[0m client\u001b[39m.\u001b[39mconnect(MQTT_SERVER, \u001b[39m1883\u001b[39m, \u001b[39m60\u001b[39m)\n\u001b[0;32m     <a href='vscode-notebook-cell:Untitled-1.ipynb?jupyter-notebook#ch0000003untitled?line=28'>29</a>\u001b[0m \u001b[39m# Blocking call that processes network traffic, dispatches callbacks and\u001b[39;00m\n\u001b[0;32m     <a href='vscode-notebook-cell:Untitled-1.ipynb?jupyter-notebook#ch0000003untitled?line=29'>30</a>\u001b[0m \u001b[39m# handles reconnecting.\u001b[39;00m\n\u001b[0;32m     <a href='vscode-notebook-cell:Untitled-1.ipynb?jupyter-notebook#ch0000003untitled?line=30'>31</a>\u001b[0m \u001b[39m# Other loop*() functions are available that give a threaded interface and a\u001b[39;00m\n\u001b[0;32m     <a href='vscode-notebook-cell:Untitled-1.ipynb?jupyter-notebook#ch0000003untitled?line=31'>32</a>\u001b[0m \u001b[39m# manual interface.\u001b[39;00m\n\u001b[1;32m---> <a href='vscode-notebook-cell:Untitled-1.ipynb?jupyter-notebook#ch0000003untitled?line=32'>33</a>\u001b[0m client\u001b[39m.\u001b[39;49mloop_forever()\n",
      "File \u001b[1;32m~\\AppData\\Roaming\\Python\\Python39\\site-packages\\paho\\mqtt\\client.py:1756\u001b[0m, in \u001b[0;36mClient.loop_forever\u001b[1;34m(self, timeout, max_packets, retry_first_connection)\u001b[0m\n\u001b[0;32m   <a href='file:///c%3A/Users/bbecker/AppData/Roaming/Python/Python39/site-packages/paho/mqtt/client.py?line=1753'>1754</a>\u001b[0m rc \u001b[39m=\u001b[39m MQTT_ERR_SUCCESS\n\u001b[0;32m   <a href='file:///c%3A/Users/bbecker/AppData/Roaming/Python/Python39/site-packages/paho/mqtt/client.py?line=1754'>1755</a>\u001b[0m \u001b[39mwhile\u001b[39;00m rc \u001b[39m==\u001b[39m MQTT_ERR_SUCCESS:\n\u001b[1;32m-> <a href='file:///c%3A/Users/bbecker/AppData/Roaming/Python/Python39/site-packages/paho/mqtt/client.py?line=1755'>1756</a>\u001b[0m     rc \u001b[39m=\u001b[39m \u001b[39mself\u001b[39;49m\u001b[39m.\u001b[39;49m_loop(timeout)\n\u001b[0;32m   <a href='file:///c%3A/Users/bbecker/AppData/Roaming/Python/Python39/site-packages/paho/mqtt/client.py?line=1756'>1757</a>\u001b[0m     \u001b[39m# We don't need to worry about locking here, because we've\u001b[39;00m\n\u001b[0;32m   <a href='file:///c%3A/Users/bbecker/AppData/Roaming/Python/Python39/site-packages/paho/mqtt/client.py?line=1757'>1758</a>\u001b[0m     \u001b[39m# either called loop_forever() when in single threaded mode, or\u001b[39;00m\n\u001b[0;32m   <a href='file:///c%3A/Users/bbecker/AppData/Roaming/Python/Python39/site-packages/paho/mqtt/client.py?line=1758'>1759</a>\u001b[0m     \u001b[39m# in multi threaded mode when loop_stop() has been called and\u001b[39;00m\n\u001b[0;32m   <a href='file:///c%3A/Users/bbecker/AppData/Roaming/Python/Python39/site-packages/paho/mqtt/client.py?line=1759'>1760</a>\u001b[0m     \u001b[39m# so no other threads can access _out_packet or _messages.\u001b[39;00m\n\u001b[0;32m   <a href='file:///c%3A/Users/bbecker/AppData/Roaming/Python/Python39/site-packages/paho/mqtt/client.py?line=1760'>1761</a>\u001b[0m     \u001b[39mif\u001b[39;00m (\u001b[39mself\u001b[39m\u001b[39m.\u001b[39m_thread_terminate \u001b[39mis\u001b[39;00m \u001b[39mTrue\u001b[39;00m\n\u001b[0;32m   <a href='file:///c%3A/Users/bbecker/AppData/Roaming/Python/Python39/site-packages/paho/mqtt/client.py?line=1761'>1762</a>\u001b[0m         \u001b[39mand\u001b[39;00m \u001b[39mlen\u001b[39m(\u001b[39mself\u001b[39m\u001b[39m.\u001b[39m_out_packet) \u001b[39m==\u001b[39m \u001b[39m0\u001b[39m\n\u001b[0;32m   <a href='file:///c%3A/Users/bbecker/AppData/Roaming/Python/Python39/site-packages/paho/mqtt/client.py?line=1762'>1763</a>\u001b[0m             \u001b[39mand\u001b[39;00m \u001b[39mlen\u001b[39m(\u001b[39mself\u001b[39m\u001b[39m.\u001b[39m_out_messages) \u001b[39m==\u001b[39m \u001b[39m0\u001b[39m):\n",
      "File \u001b[1;32m~\\AppData\\Roaming\\Python\\Python39\\site-packages\\paho\\mqtt\\client.py:1150\u001b[0m, in \u001b[0;36mClient._loop\u001b[1;34m(self, timeout)\u001b[0m\n\u001b[0;32m   <a href='file:///c%3A/Users/bbecker/AppData/Roaming/Python/Python39/site-packages/paho/mqtt/client.py?line=1146'>1147</a>\u001b[0m     rlist \u001b[39m=\u001b[39m [\u001b[39mself\u001b[39m\u001b[39m.\u001b[39m_sock, \u001b[39mself\u001b[39m\u001b[39m.\u001b[39m_sockpairR]\n\u001b[0;32m   <a href='file:///c%3A/Users/bbecker/AppData/Roaming/Python/Python39/site-packages/paho/mqtt/client.py?line=1148'>1149</a>\u001b[0m \u001b[39mtry\u001b[39;00m:\n\u001b[1;32m-> <a href='file:///c%3A/Users/bbecker/AppData/Roaming/Python/Python39/site-packages/paho/mqtt/client.py?line=1149'>1150</a>\u001b[0m     socklist \u001b[39m=\u001b[39m select\u001b[39m.\u001b[39;49mselect(rlist, wlist, [], timeout)\n\u001b[0;32m   <a href='file:///c%3A/Users/bbecker/AppData/Roaming/Python/Python39/site-packages/paho/mqtt/client.py?line=1150'>1151</a>\u001b[0m \u001b[39mexcept\u001b[39;00m \u001b[39mTypeError\u001b[39;00m:\n\u001b[0;32m   <a href='file:///c%3A/Users/bbecker/AppData/Roaming/Python/Python39/site-packages/paho/mqtt/client.py?line=1151'>1152</a>\u001b[0m     \u001b[39m# Socket isn't correct type, in likelihood connection is lost\u001b[39;00m\n\u001b[0;32m   <a href='file:///c%3A/Users/bbecker/AppData/Roaming/Python/Python39/site-packages/paho/mqtt/client.py?line=1152'>1153</a>\u001b[0m     \u001b[39mreturn\u001b[39;00m MQTT_ERR_CONN_LOST\n",
      "\u001b[1;31mKeyboardInterrupt\u001b[0m: "
     ]
    }
   ],
   "source": [
    "# SUB\n",
    "import paho.mqtt.client as mqtt\n",
    "MQTT_SERVER = \"becker14.local\"\n",
    "MQTT_PATH = \"test/image\"\n",
    "\n",
    "# The callback for when the client receives a CONNACK response from the server.\n",
    "def on_connect(client, userdata, flags, rc):\n",
    "    print(\"Connected with result code \"+str(rc))\n",
    "\n",
    "    # Subscribing in on_connect() means that if we lose the connection and\n",
    "    # reconnect then subscriptions will be renewed.\n",
    "    client.subscribe(MQTT_PATH)\n",
    "    # The callback for when a PUBLISH message is received from the server.\n",
    "\n",
    "\n",
    "def on_message(client, userdata, msg):\n",
    "    # more callbacks, etc\n",
    "    # Create a file with write byte permission\n",
    "    f = open('c:\\\\temp\\\\output.png', \"wb\")\n",
    "    f.write(msg.payload)\n",
    "    print(\"Image Received\")\n",
    "    f.close()\n",
    "\n",
    "client = mqtt.Client()\n",
    "client.on_connect = on_connect\n",
    "client.on_message = on_message\n",
    "client.connect(MQTT_SERVER, 1883, 60)\n",
    "\n",
    "# Blocking call that processes network traffic, dispatches callbacks and\n",
    "# handles reconnecting.\n",
    "# Other loop*() functions are available that give a threaded interface and a\n",
    "# manual interface.\n",
    "client.loop_forever()"
   ]
  }
 ],
 "metadata": {
  "interpreter": {
   "hash": "11938c6bc6919ae2720b4d5011047913343b08a43b18698fd82dedb0d4417594"
  },
  "kernelspec": {
   "display_name": "Python 3.9.10 64-bit",
   "language": "python",
   "name": "python3"
  },
  "language_info": {
   "codemirror_mode": {
    "name": "ipython",
    "version": 3
   },
   "file_extension": ".py",
   "mimetype": "text/x-python",
   "name": "python",
   "nbconvert_exporter": "python",
   "pygments_lexer": "ipython3",
   "version": "3.9.10"
  },
  "orig_nbformat": 4
 },
 "nbformat": 4,
 "nbformat_minor": 2
}
